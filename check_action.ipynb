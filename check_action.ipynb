{
 "cells": [
  {
   "cell_type": "code",
   "execution_count": 1,
   "metadata": {},
   "outputs": [
    {
     "name": "stdout",
     "output_type": "stream",
     "text": [
      "configs loaded from config/chore-release.json\n"
     ]
    }
   ],
   "source": [
    "from ast import arg\n",
    "import sys, os\n",
    "sys.path.append(os.getcwd())\n",
    "import torch\n",
    "import torch.distributed as dist\n",
    "from torch.nn.parallel import DistributedDataParallel as DDP\n",
    "from utils.dist_utils import init_distributed_mode\n",
    "\n",
    "from model import ACTIONCHORE\n",
    "from trainer.trainer import Trainer\n",
    "from data.data_paths import DataPaths\n",
    "from data.train_data import BehaveDataset\n",
    "\n",
    "\n",
    "from config.config_loader import load_configs\n",
    "\n",
    "\n",
    "configs = load_configs('chore-release')\n",
    "# assert args.exp_name==configs.exp_name\n",
    "# add command line configs\n",
    "configs.device = 'cuda'\n",
    "configs.world_size = 4\n",
    "configs.dist_url = 'env://'\n",
    "configs.rank = 0\n",
    "\n",
    "def index(feat, uv):\n",
    "    '''\n",
    "    :param feat: [B, C, H, W] image features\n",
    "    :param uv: [B, 2, N] uv coordinates in the image plane, range [-1, 1]\n",
    "    :return: [B, C, N] image features at the uv coordinates\n",
    "    '''\n",
    "    uv = uv.transpose(1, 2)  # [B, N, 2]\n",
    "    uv = uv.unsqueeze(2)  # [B, N, 1, 2]\n",
    "    samples = torch.nn.functional.grid_sample(feat, uv, align_corners=True)  # [B, C, N, 1] or [B, C, N, 5]\n",
    "\n",
    "    return samples[:, :, :, 0]  # [B, C, N]"
   ]
  },
  {
   "cell_type": "code",
   "execution_count": 2,
   "metadata": {},
   "outputs": [],
   "source": [
    "def test(args):\n",
    "    world_size = torch.cuda.device_count()\n",
    "    init_distributed_mode(args)\n",
    "    rank = args.rank\n",
    "    device = torch.device(args.device)\n",
    "    model = ACTIONCHORE(args, rank=rank)\n",
    "\n",
    "    model.check_action_chore()\n",
    "\n",
    "#     batch_size = 1\n",
    "#     # test images \n",
    "#     # net_img_size = 512, 512\n",
    "#     # batch_size = 15\n",
    "#     test_img = torch.randn((batch_size, 5, 512, 512))  # [B, C, H, W] \n",
    "#     im_feat_list, tmpx, normx = model.filter(test_img)\n",
    "    \n",
    "#     # fake points\n",
    "#     points = torch.randn((batch_size, 100, 3)) # [B, N, 3]\n",
    "#     xyz = points.permute(0, 2, 1) # [B, 3, N]\n",
    "#     xy = xyz[:, :2, :]              # [B, 2, N]\n",
    "#     rela_z = (points[:, :, 2:3] - 2.2).transpose(1, 2)  # relative depth to a fixed smpl center\n",
    "#     z_feat = torch.cat([points[:, :, 0:2].transpose(1, 2), rela_z], 1)\n",
    "#     tmpx_local_feature = index(tmpx, xy)\n",
    "\n",
    "\n",
    "#     for im_feat in im_feat_list:\n",
    "#             point_local_feat_list = [index(im_feat, xy), z_feat]\n",
    "#             point_local_feat_list.append(tmpx_local_feature)\n",
    "\n",
    "#             # I need to add action feature here\n",
    "\n",
    "#             point_local_feat = torch.cat(point_local_feat_list, 1)\n",
    "#             # preds = decode(point_local_feat)\n",
    "\n",
    "#             # # out of image plane is always set to a maximum\n",
    "#             # df = preds[0]  # the first is always df prediction\n",
    "#             # df_trans = df.transpose(1, 2)  # (B, 2, N) -> (B, N, 2)\n",
    "#             # df_trans[~in_img] = self.OUT_DIST\n",
    "#             # df = df_trans.transpose(1, 2)\n",
    "\n",
    "#     return (point_local_feat_list, point_local_feat)\n",
    "\n",
    "test(configs)"
   ]
  },
  {
   "cell_type": "code",
   "execution_count": null,
   "metadata": {},
   "outputs": [],
   "source": []
  }
 ],
 "metadata": {
  "kernelspec": {
   "display_name": "Python 3.7.12 ('chore')",
   "language": "python",
   "name": "python3"
  },
  "language_info": {
   "codemirror_mode": {
    "name": "ipython",
    "version": 3
   },
   "file_extension": ".py",
   "mimetype": "text/x-python",
   "name": "python",
   "nbconvert_exporter": "python",
   "pygments_lexer": "ipython3",
   "version": "3.7.12"
  },
  "orig_nbformat": 4,
  "vscode": {
   "interpreter": {
    "hash": "dfc7f65d503d0281d3a3b748f15118949b43d69f6ae95a9ec317d45d2ac71bf9"
   }
  }
 },
 "nbformat": 4,
 "nbformat_minor": 2
}
