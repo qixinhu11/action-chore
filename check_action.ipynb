{
 "cells": [
  {
   "cell_type": "code",
   "execution_count": 12,
   "metadata": {},
   "outputs": [
    {
     "name": "stdout",
     "output_type": "stream",
     "text": [
      "configs loaded from config/chore-release.json\n"
     ]
    }
   ],
   "source": [
    "from ast import arg\n",
    "import sys, os\n",
    "sys.path.append(os.getcwd())\n",
    "import numpy as np \n",
    "import torch\n",
    "import torch.distributed as dist\n",
    "from torch.nn.parallel import DistributedDataParallel as DDP\n",
    "from utils.dist_utils import init_distributed_mode\n",
    "\n",
    "from model import ACTIONCHORE\n",
    "from trainer.trainer import Trainer\n",
    "from data.data_paths import DataPaths\n",
    "from data.train_data import BehaveDataset\n",
    "\n",
    "from config.config_loader import load_configs\n",
    "\n",
    "\n",
    "configs = load_configs('chore-release')\n",
    "# assert args.exp_name==configs.exp_name\n",
    "# add command line configs\n",
    "configs.device = 'cuda'\n",
    "configs.world_size = 4\n",
    "configs.dist_url = 'env://'\n",
    "configs.rank = 0\n",
    "\n",
    "def index(feat, uv):\n",
    "    '''\n",
    "    :param feat: [B, C, H, W] image features\n",
    "    :param uv: [B, 2, N] uv coordinates in the image plane, range [-1, 1]\n",
    "    :return: [B, C, N] image features at the uv coordinates\n",
    "    '''\n",
    "    uv = uv.transpose(1, 2)  # [B, N, 2]\n",
    "    uv = uv.unsqueeze(2)  # [B, N, 1, 2]\n",
    "    samples = torch.nn.functional.grid_sample(feat, uv, align_corners=True)  # [B, C, N, 1] or [B, C, N, 5]\n",
    "\n",
    "    return samples[:, :, :, 0]  # [B, C, N]\n",
    "\n",
    "def test_model(args):\n",
    "    world_size = torch.cuda.device_count()\n",
    "    init_distributed_mode(args)\n",
    "    rank = args.rank\n",
    "    device = torch.device(args.device)\n",
    "    model = ACTIONCHORE(args, rank=rank)\n",
    "\n",
    "    model.check_action_chore()\n",
    "\n",
    "def test_dataset(args):\n",
    "    train_paths, val_paths = DataPaths.load_splits(args.split_file)\n",
    "    \n",
    "    return train_paths, val_paths"
   ]
  },
  {
   "cell_type": "code",
   "execution_count": 13,
   "metadata": {},
   "outputs": [],
   "source": [
    "train_paths, val_paths = test_dataset(configs)"
   ]
  },
  {
   "cell_type": "code",
   "execution_count": 17,
   "metadata": {},
   "outputs": [],
   "source": [
    "path_dir = train_paths[0].split('/')[:-1]\n",
    "path_dir = '/'.join(path_dir)\n",
    "action = np.load(os.path.join(path_dir, 'action.npz'))"
   ]
  },
  {
   "cell_type": "code",
   "execution_count": 18,
   "metadata": {},
   "outputs": [
    {
     "data": {
      "text/plain": [
       "array(2)"
      ]
     },
     "execution_count": 18,
     "metadata": {},
     "output_type": "execute_result"
    }
   ],
   "source": [
    "action['action']"
   ]
  },
  {
   "cell_type": "code",
   "execution_count": null,
   "metadata": {},
   "outputs": [],
   "source": []
  },
  {
   "cell_type": "code",
   "execution_count": null,
   "metadata": {},
   "outputs": [],
   "source": [
    "test_model(configs)"
   ]
  }
 ],
 "metadata": {
  "kernelspec": {
   "display_name": "Python 3.7.12 ('chore')",
   "language": "python",
   "name": "python3"
  },
  "language_info": {
   "codemirror_mode": {
    "name": "ipython",
    "version": 3
   },
   "file_extension": ".py",
   "mimetype": "text/x-python",
   "name": "python",
   "nbconvert_exporter": "python",
   "pygments_lexer": "ipython3",
   "version": "3.7.12"
  },
  "orig_nbformat": 4,
  "vscode": {
   "interpreter": {
    "hash": "dfc7f65d503d0281d3a3b748f15118949b43d69f6ae95a9ec317d45d2ac71bf9"
   }
  }
 },
 "nbformat": 4,
 "nbformat_minor": 2
}
